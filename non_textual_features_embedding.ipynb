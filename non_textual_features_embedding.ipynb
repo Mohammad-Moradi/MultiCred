{
  "cells": [
    {
      "cell_type": "code",
      "execution_count": 1,
      "metadata": {
        "colab": {
          "base_uri": "https://localhost:8080/"
        },
        "id": "gtDrPdLT46aw",
        "outputId": "2aa14281-0350-4ad0-b33b-ae5c5b5c704b"
      },
      "outputs": [],
      "source": [
        "import json\n",
        "\n",
        "path_tweet = \"Non textual features\\\\tweets.json\"\n",
        "path_profile = \"Non textual features\\\\profiles.json\"\n",
        "\n",
        "with open(path_tweet, \"r\", encoding=\"utf8\") as f:\n",
        "  temp = json.load(f)\n",
        "  user_tweet = {x: v for x, v in temp.items()}\n",
        "  f.close()\n",
        "\n",
        "with open(path_profile, \"r\", encoding=\"utf8\") as f:\n",
        "  temp = json.load(f)\n",
        "  user_prof = {x: v for x, v in temp.items()}\n",
        "  f.close()\n",
        "\n",
        "\n",
        "\n"
      ]
    },
    {
      "cell_type": "code",
      "execution_count": 2,
      "metadata": {
        "id": "axElksdE93H7"
      },
      "outputs": [],
      "source": [
        "embeddings = {}\n",
        "for acc in user_prof.keys():\n",
        "  if acc != \"heavy.com\":\n",
        "\n",
        "    dic = {}\n",
        "    vec = []\n",
        "    vec_1 = user_prof[acc]\n",
        "    vec_2 = user_tweet[acc]\n",
        "\n",
        "    if acc == \"meanshealth.com\":\n",
        "      acc = \"menshealth.com\"\n",
        "\n",
        "\n",
        "    vec = vec_1 + vec_2\n",
        "\n",
        "    embeddings[acc] = vec"
      ]
    },
    {
      "cell_type": "code",
      "execution_count": 3,
      "metadata": {
        "id": "A7TgYp-1GDZo"
      },
      "outputs": [],
      "source": [
        "with open(\"Non textual features\\\\profile_tweet_non_textual_embedding.json\", 'w', encoding=\"utf-8\") as f:\n",
        "  json_obj = json.dumps(embeddings, indent=4)\n",
        "  f.write(json_obj)\n",
        "f.close()"
      ]
    }
  ],
  "metadata": {
    "colab": {
      "provenance": []
    },
    "kernelspec": {
      "display_name": "Python 3",
      "name": "python3"
    },
    "language_info": {
      "codemirror_mode": {
        "name": "ipython",
        "version": 3
      },
      "file_extension": ".py",
      "mimetype": "text/x-python",
      "name": "python",
      "nbconvert_exporter": "python",
      "pygments_lexer": "ipython3",
      "version": "3.11.3"
    }
  },
  "nbformat": 4,
  "nbformat_minor": 0
}
