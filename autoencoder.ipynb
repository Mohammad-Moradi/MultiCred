{
  "cells": [
    {
      "cell_type": "code",
      "execution_count": 17,
      "metadata": {
        "id": "t0m5ewXKmG53"
      },
      "outputs": [],
      "source": [
        "import pickle\n",
        "\n",
        "path = \"Textual features\\\\Tweets\\\\tweets\"\n",
        "\n",
        "with open(path, 'rb') as f:\n",
        "  X = pickle.load(f)"
      ]
    },
    {
      "cell_type": "code",
      "execution_count": 42,
      "metadata": {},
      "outputs": [],
      "source": [
        "import numpy as np\n",
        "import functools\n",
        "import operator\n",
        "\n",
        "data = []\n",
        "\n",
        "for vec in X.values():\n",
        "    data.append(vec)\n",
        "\n",
        "X_ = functools.reduce(operator.iconcat, data, [])"
      ]
    },
    {
      "cell_type": "code",
      "execution_count": 43,
      "metadata": {
        "id": "PYoVYMKXmrwV"
      },
      "outputs": [],
      "source": [
        "import keras\n",
        "from keras import layers\n",
        "\n",
        "# This is the size of our encoded representations\n",
        "encoding_dim = 10\n",
        "\n",
        "\n",
        "input_vec = keras.Input(shape=(384,))\n",
        "# \"encoded\" is the encoded representation of the input\n",
        "layer_1 = layers.Dense(182)(input_vec)\n",
        "layer_2 = layers.Dense(90)(layer_1)\n",
        "layer_3 = layers.Dense(40)(layer_2)\n",
        "encoded = layers.Dense(encoding_dim, activation='relu')(layer_3)\n",
        "\n",
        "# \"decoded\" is the lossy reconstruction of the input\n",
        "layer_4 = layers.Dense(40)(encoded)\n",
        "layer_5 = layers.Dense(90)(layer_4)\n",
        "layer_6 = layers.Dense(182)(layer_5)\n",
        "decoded = layers.Dense(384, activation='sigmoid')(layer_6)\n",
        "\n",
        "# This model maps an input to its reconstruction\n",
        "autoencoder = keras.Model(input_vec, decoded)\n",
        "encoder = keras.Model(input_vec, encoded)\n",
        "\n",
        "# encoded_input = keras.Input(shape=(encoding_dim,))\n",
        "\n",
        "autoencoder.compile(optimizer=\"adam\", loss=\"mse\")"
      ]
    },
    {
      "cell_type": "code",
      "execution_count": 44,
      "metadata": {
        "id": "ZnpZFVBKm2QQ"
      },
      "outputs": [],
      "source": [
        "from sklearn.model_selection import train_test_split\n",
        "\n",
        "x_train, x_train_t, x_test, x_test_t = train_test_split(X_, X_, test_size=0.1, random_state=42)"
      ]
    },
    {
      "cell_type": "code",
      "execution_count": null,
      "metadata": {
        "colab": {
          "base_uri": "https://localhost:8080/",
          "height": 1000
        },
        "id": "Meny52o7m9b1",
        "outputId": "95ff2b49-1621-4ba2-e2dd-e4977984793f"
      },
      "outputs": [],
      "source": [
        "callback = keras.callbacks.EarlyStopping(monitor='val_loss', patience=5)\n",
        "\n",
        "autoencoder.fit(np.array(x_train), np.array(x_test),\n",
        "                epochs=200,\n",
        "                batch_size=64,\n",
        "                shuffle=True,\n",
        "                validation_data=(np.array(x_train_t), np.array(x_test_t)),\n",
        "                callbacks=[callback],\n",
        "                verbose=1)\n",
        "\n"
      ]
    },
    {
      "cell_type": "code",
      "execution_count": 46,
      "metadata": {
        "colab": {
          "base_uri": "https://localhost:8080/"
        },
        "id": "ysAkfzeCwB3H",
        "outputId": "987b324f-808c-4a35-c64f-a18d8e2f825f"
      },
      "outputs": [],
      "source": [
        "autoencoder.save(\"Textual features\\\\Tweets\\\\autoencoder.h5\")"
      ]
    }
  ],
  "metadata": {
    "colab": {
      "provenance": []
    },
    "gpuClass": "standard",
    "kernelspec": {
      "display_name": "Python 3",
      "name": "python3"
    },
    "language_info": {
      "codemirror_mode": {
        "name": "ipython",
        "version": 3
      },
      "file_extension": ".py",
      "mimetype": "text/x-python",
      "name": "python",
      "nbconvert_exporter": "python",
      "pygments_lexer": "ipython3",
      "version": "3.11.3"
    }
  },
  "nbformat": 4,
  "nbformat_minor": 0
}
